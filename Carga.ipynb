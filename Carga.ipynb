{
 "cells": [
  {
   "cell_type": "code",
   "execution_count": 1,
   "id": "524f0a51-1e83-447b-bbf6-edcd51c79d68",
   "metadata": {},
   "outputs": [],
   "source": [
    "import sqlite3\n",
    "import pandas as pd"
   ]
  },
  {
   "cell_type": "code",
   "execution_count": 2,
   "id": "0e54ab62",
   "metadata": {},
   "outputs": [],
   "source": [
    "# Arquivos CSV que contêm os dados\n",
    "csv_files = {\n",
    "    'ftTitanic': './refined/ftTitanic.csv',\n",
    "    'dtViagem': './refined/dtViagem.csv',\n",
    "    'dtFamilia': './refined/dtFamilia.csv',\n",
    "    'dtResgate': './refined/dtResgate.csv'\n",
    "}"
   ]
  },
  {
   "cell_type": "code",
   "execution_count": 3,
   "id": "bf888cc0",
   "metadata": {},
   "outputs": [],
   "source": [
    "# Conectar ao banco de dados SQLite\n",
    "conn = sqlite3.connect('titanic_db.sqlite')"
   ]
  },
  {
   "cell_type": "code",
   "execution_count": 4,
   "id": "db64f0c1",
   "metadata": {},
   "outputs": [],
   "source": [
    "# Iterar sobre cada arquivo CSV e carregar os dados em tabelas SQLite\n",
    "for table_name, csv_path in csv_files.items():\n",
    "    # Carregar o arquivo CSV como um DataFrame do Pandas\n",
    "    data = pd.read_csv(csv_path)\n",
    "    \n",
    "    # Criar a tabela no banco de dados SQLite e inserir os dados\n",
    "    data.to_sql(name=table_name, con=conn, if_exists='replace', index=False)\n",
    "\n",
    "# Commit e fechar a conexão com o banco de dados\n",
    "conn.commit()\n",
    "conn.close()"
   ]
  },
  {
   "cell_type": "code",
   "execution_count": null,
   "id": "5ff58de8-33d8-4e21-965b-288fdcded8a4",
   "metadata": {},
   "outputs": [],
   "source": []
  }
 ],
 "metadata": {
  "kernelspec": {
   "display_name": "Python 3 (ipykernel)",
   "language": "python",
   "name": "python3"
  },
  "language_info": {
   "codemirror_mode": {
    "name": "ipython",
    "version": 3
   },
   "file_extension": ".py",
   "mimetype": "text/x-python",
   "name": "python",
   "nbconvert_exporter": "python",
   "pygments_lexer": "ipython3",
   "version": "3.9.18"
  }
 },
 "nbformat": 4,
 "nbformat_minor": 5
}
