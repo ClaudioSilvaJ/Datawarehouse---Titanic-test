{
 "cells": [
  {
   "cell_type": "code",
   "execution_count": 1,
   "id": "4e6e629e-686d-453f-b67e-6b3e8bc875e8",
   "metadata": {},
   "outputs": [],
   "source": [
    "import pandas as pd\n",
    "import os\n",
    "import opendatasets as od\n",
    "import zipfile"
   ]
  },
  {
   "cell_type": "code",
   "execution_count": 2,
   "id": "45d6995c-7529-4a72-9602-a9af69fe5135",
   "metadata": {},
   "outputs": [
    {
     "name": "stdout",
     "output_type": "stream",
     "text": [
      "Please provide your Kaggle credentials to download this dataset. Learn more: http://bit.ly/kaggle-creds\n",
      "Your Kaggle username:"
     ]
    },
    {
     "name": "stdin",
     "output_type": "stream",
     "text": [
      "  dwa\n"
     ]
    },
    {
     "name": "stdout",
     "output_type": "stream",
     "text": [
      "Your Kaggle Key:"
     ]
    },
    {
     "name": "stdin",
     "output_type": "stream",
     "text": [
      "  ········\n"
     ]
    },
    {
     "name": "stdout",
     "output_type": "stream",
     "text": [
      "Dataset URL: https://www.kaggle.com/datasets/vinicius150987/titanic3\n",
      "Downloading titanic3.zip to .\\titanic3\n"
     ]
    },
    {
     "name": "stderr",
     "output_type": "stream",
     "text": [
      "100%|███████████████████████████████████████████████████████████████████████████████████████████████████████████████████████| 277k/277k [00:00<00:00, 529kB/s]"
     ]
    },
    {
     "name": "stdout",
     "output_type": "stream",
     "text": [
      "\n"
     ]
    },
    {
     "name": "stderr",
     "output_type": "stream",
     "text": [
      "\n"
     ]
    }
   ],
   "source": [
    "od.download('https://www.kaggle.com/datasets/vinicius150987/titanic3')"
   ]
  },
  {
   "cell_type": "code",
   "execution_count": 3,
   "id": "08fa3691-588f-4809-85f2-a5794d649316",
   "metadata": {},
   "outputs": [],
   "source": [
    "#Cria as pastas necessarias\n",
    "if os.path.exists('titanic3'):\n",
    "    os.rename(\"titanic3\", \"raw\")\n",
    "if not os.path.exists('staging'):\n",
    "    os.makedirs('staging')\n",
    "if not os.path.exists('refined'):\n",
    "    os.makedirs('refined')"
   ]
  },
  {
   "cell_type": "code",
   "execution_count": 4,
   "id": "780a101a-d22e-44a3-bfaa-2b7d61572205",
   "metadata": {},
   "outputs": [],
   "source": [
    "# Lê o arquivo e cria o DataFrame\n",
    "titanic = pd.read_excel('./raw/titanic3.xls')"
   ]
  },
  {
   "cell_type": "code",
   "execution_count": 5,
   "id": "189e2fd1-1795-4f94-baa3-1fd8feb1efee",
   "metadata": {},
   "outputs": [],
   "source": [
    "# Renomeando/traduzindo as colunas\n",
    "titanic = titanic.rename(columns={'age': 'idade',\n",
    "                                 'pclass':'classe',\n",
    "                                 'survived':'sobrevivente',\n",
    "                                 'name':'nome',\n",
    "                                 'sex':'sexo',\n",
    "                                 'ticket':'bilhete',\n",
    "                                 'fare':'tarifa',\n",
    "                                 'embarked':'embarcado',\n",
    "                                 'boat':'bote',\n",
    "                                 'body':'corpo',\n",
    "                                 'home.dest':'destino',\n",
    "                                  'sibsp':'parente_2',\n",
    "                                  'parch':'parente_1',\n",
    "                                  'cabin':'cabine'\n",
    "                                 })"
   ]
  },
  {
   "cell_type": "code",
   "execution_count": 6,
   "id": "310612a0-9812-4e99-a7f0-f073cd681369",
   "metadata": {},
   "outputs": [
    {
     "data": {
      "text/html": [
       "<div>\n",
       "<style scoped>\n",
       "    .dataframe tbody tr th:only-of-type {\n",
       "        vertical-align: middle;\n",
       "    }\n",
       "\n",
       "    .dataframe tbody tr th {\n",
       "        vertical-align: top;\n",
       "    }\n",
       "\n",
       "    .dataframe thead th {\n",
       "        text-align: right;\n",
       "    }\n",
       "</style>\n",
       "<table border=\"1\" class=\"dataframe\">\n",
       "  <thead>\n",
       "    <tr style=\"text-align: right;\">\n",
       "      <th></th>\n",
       "      <th>classe</th>\n",
       "      <th>sobrevivente</th>\n",
       "      <th>nome</th>\n",
       "      <th>sexo</th>\n",
       "      <th>idade</th>\n",
       "      <th>parente_2</th>\n",
       "      <th>parente_1</th>\n",
       "      <th>bilhete</th>\n",
       "      <th>tarifa</th>\n",
       "      <th>cabine</th>\n",
       "      <th>embarcado</th>\n",
       "      <th>bote</th>\n",
       "      <th>corpo</th>\n",
       "      <th>destino</th>\n",
       "    </tr>\n",
       "  </thead>\n",
       "  <tbody>\n",
       "    <tr>\n",
       "      <th>0</th>\n",
       "      <td>1</td>\n",
       "      <td>1</td>\n",
       "      <td>Allen, Miss. Elisabeth Walton</td>\n",
       "      <td>female</td>\n",
       "      <td>29.0000</td>\n",
       "      <td>0</td>\n",
       "      <td>0</td>\n",
       "      <td>24160</td>\n",
       "      <td>211.3375</td>\n",
       "      <td>B5</td>\n",
       "      <td>S</td>\n",
       "      <td>2</td>\n",
       "      <td>NaN</td>\n",
       "      <td>St Louis, MO</td>\n",
       "    </tr>\n",
       "    <tr>\n",
       "      <th>1</th>\n",
       "      <td>1</td>\n",
       "      <td>1</td>\n",
       "      <td>Allison, Master. Hudson Trevor</td>\n",
       "      <td>male</td>\n",
       "      <td>0.9167</td>\n",
       "      <td>1</td>\n",
       "      <td>2</td>\n",
       "      <td>113781</td>\n",
       "      <td>151.5500</td>\n",
       "      <td>C22 C26</td>\n",
       "      <td>S</td>\n",
       "      <td>11</td>\n",
       "      <td>NaN</td>\n",
       "      <td>Montreal, PQ / Chesterville, ON</td>\n",
       "    </tr>\n",
       "    <tr>\n",
       "      <th>2</th>\n",
       "      <td>1</td>\n",
       "      <td>0</td>\n",
       "      <td>Allison, Miss. Helen Loraine</td>\n",
       "      <td>female</td>\n",
       "      <td>2.0000</td>\n",
       "      <td>1</td>\n",
       "      <td>2</td>\n",
       "      <td>113781</td>\n",
       "      <td>151.5500</td>\n",
       "      <td>C22 C26</td>\n",
       "      <td>S</td>\n",
       "      <td>NaN</td>\n",
       "      <td>NaN</td>\n",
       "      <td>Montreal, PQ / Chesterville, ON</td>\n",
       "    </tr>\n",
       "    <tr>\n",
       "      <th>3</th>\n",
       "      <td>1</td>\n",
       "      <td>0</td>\n",
       "      <td>Allison, Mr. Hudson Joshua Creighton</td>\n",
       "      <td>male</td>\n",
       "      <td>30.0000</td>\n",
       "      <td>1</td>\n",
       "      <td>2</td>\n",
       "      <td>113781</td>\n",
       "      <td>151.5500</td>\n",
       "      <td>C22 C26</td>\n",
       "      <td>S</td>\n",
       "      <td>NaN</td>\n",
       "      <td>135.0</td>\n",
       "      <td>Montreal, PQ / Chesterville, ON</td>\n",
       "    </tr>\n",
       "    <tr>\n",
       "      <th>4</th>\n",
       "      <td>1</td>\n",
       "      <td>0</td>\n",
       "      <td>Allison, Mrs. Hudson J C (Bessie Waldo Daniels)</td>\n",
       "      <td>female</td>\n",
       "      <td>25.0000</td>\n",
       "      <td>1</td>\n",
       "      <td>2</td>\n",
       "      <td>113781</td>\n",
       "      <td>151.5500</td>\n",
       "      <td>C22 C26</td>\n",
       "      <td>S</td>\n",
       "      <td>NaN</td>\n",
       "      <td>NaN</td>\n",
       "      <td>Montreal, PQ / Chesterville, ON</td>\n",
       "    </tr>\n",
       "  </tbody>\n",
       "</table>\n",
       "</div>"
      ],
      "text/plain": [
       "   classe  sobrevivente                                             nome  \\\n",
       "0       1             1                    Allen, Miss. Elisabeth Walton   \n",
       "1       1             1                   Allison, Master. Hudson Trevor   \n",
       "2       1             0                     Allison, Miss. Helen Loraine   \n",
       "3       1             0             Allison, Mr. Hudson Joshua Creighton   \n",
       "4       1             0  Allison, Mrs. Hudson J C (Bessie Waldo Daniels)   \n",
       "\n",
       "     sexo    idade  parente_2  parente_1 bilhete    tarifa   cabine embarcado  \\\n",
       "0  female  29.0000          0          0   24160  211.3375       B5         S   \n",
       "1    male   0.9167          1          2  113781  151.5500  C22 C26         S   \n",
       "2  female   2.0000          1          2  113781  151.5500  C22 C26         S   \n",
       "3    male  30.0000          1          2  113781  151.5500  C22 C26         S   \n",
       "4  female  25.0000          1          2  113781  151.5500  C22 C26         S   \n",
       "\n",
       "  bote  corpo                          destino  \n",
       "0    2    NaN                     St Louis, MO  \n",
       "1   11    NaN  Montreal, PQ / Chesterville, ON  \n",
       "2  NaN    NaN  Montreal, PQ / Chesterville, ON  \n",
       "3  NaN  135.0  Montreal, PQ / Chesterville, ON  \n",
       "4  NaN    NaN  Montreal, PQ / Chesterville, ON  "
      ]
     },
     "execution_count": 6,
     "metadata": {},
     "output_type": "execute_result"
    }
   ],
   "source": [
    "titanic.head()"
   ]
  },
  {
   "cell_type": "code",
   "execution_count": 7,
   "id": "6aea618b-6d90-41ac-92fe-ecbbe2476368",
   "metadata": {},
   "outputs": [],
   "source": [
    "titanic.to_csv('./staging/titanic.csv', index=False)"
   ]
  },
  {
   "cell_type": "code",
   "execution_count": null,
   "id": "5bc961a7-8a03-46cb-823c-964f280d030d",
   "metadata": {},
   "outputs": [],
   "source": []
  }
 ],
 "metadata": {
  "kernelspec": {
   "display_name": "Python 3 (ipykernel)",
   "language": "python",
   "name": "python3"
  },
  "language_info": {
   "codemirror_mode": {
    "name": "ipython",
    "version": 3
   },
   "file_extension": ".py",
   "mimetype": "text/x-python",
   "name": "python",
   "nbconvert_exporter": "python",
   "pygments_lexer": "ipython3",
   "version": "3.9.18"
  }
 },
 "nbformat": 4,
 "nbformat_minor": 5
}
