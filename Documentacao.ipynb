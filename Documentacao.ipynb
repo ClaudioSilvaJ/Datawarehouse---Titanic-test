{
 "cells": [
  {
   "cell_type": "markdown",
   "metadata": {},
   "source": [
    "# Documentação do desafio da matéria de Datawarehouse"
   ]
  },
  {
   "cell_type": "markdown",
   "metadata": {},
   "source": [
    "1) O Desafio consiste em utilizar a base de dados disponibilizada em : https://www.kaggle.com/datasets/vinicius150987/titanic3, para realizar o processo de ETL (Extração, Transformação e Load) com os conhecimentos passados em sala de aula.\n",
    "\n",
    "2) Os dados provenientes estão em formato .xls, durante o processo são armazenados em .csv e ao final são enviados para um banco relacional em SQLite3."
   ]
  },
  {
   "cell_type": "markdown",
   "metadata": {},
   "source": [
    "## Bibliotecas\n",
    "\n",
    "### As bibliotecas utlizadas são:\n",
    "- OS: Manipulação de pastas e arquivos.\n",
    "\n",
    "- OpenDataSets: Biblioteca para baixar datasets provenientes da plataforma Keggle\n",
    "\n",
    "- ZipFile: Biblioteca para trabalhar com arquivos compactados.\n",
    "\n",
    "- Pandas: Biblioteca para manipulação de Dataframes, responsável pela maior parte da transformação.\n",
    "\n",
    "- Numpy: Responsável no auxílio de cálculos númericos e campos NaN\n",
    "\n",
    "- SQLite3: Banco de dados para armazenar os dados tratados em disco"
   ]
  },
  {
   "cell_type": "markdown",
   "metadata": {},
   "source": [
    "## Etapas\n",
    "\n"
   ]
  },
  {
   "cell_type": "markdown",
   "metadata": {},
   "source": [
    "### Extração\n",
    "- Para extrair o dataset usamos uma função para baixar o arquivo no diretório atual de trabalho.\n",
    "> **opendatasets.download(\"link\")**\n",
    "\n",
    "\n",
    "\n"
   ]
  },
  {
   "cell_type": "markdown",
   "metadata": {},
   "source": [
    "## Transformação\n",
    "#### Organização\n",
    "- Para começar os trablahos de transformação vamos criar 3 pastas de trabalho para organização, separamo-os em **raw**, **stagiing** e **refined** usando a biblioteca **OS**.\n",
    "\n",
    ">**os.mkdir('nome_da_pasta')**\n"
   ]
  },
  {
   "cell_type": "markdown",
   "metadata": {},
   "source": [
    "#### Tradução das colunas\n",
    "- Para melhorar o entendimento do dataset traduzimos os nomes das tabelas usando a função do pandas:\n",
    "\n",
    ">**rename(columns={'nome_coluna': 'novo_nome'})**\n",
    "\n"
   ]
  },
  {
   "cell_type": "markdown",
   "metadata": {},
   "source": [
    "### Melhorando dados\n",
    "####     Fórmulas utilizadas:\n",
    "<ol>\n",
    "Modificar valores nulos:\n",
    "\n",
    ">**fillna()**\n",
    "\n",
    "Resumir ou modificar para unificar em um tipo de valor:\n",
    ">**replace()**\n",
    "\n",
    "Identificar na coluna quantos valores nulos existem:\n",
    ">**isna().sum()**\n",
    "\n",
    "Identificar quais colunas tem valores nulos:\n",
    ">**tabela.columns[tabela.isna().any()].tolist()**\n",
    "\n",
    "Localizar valores para após substituir:\n",
    ">**tabela.loc[lógica_condicional] = valor_à_subistituir**\n"
   ]
  },
  {
   "cell_type": "markdown",
   "metadata": {},
   "source": [
    "1) Identificamos também que várias colunas possuiam valores NaN, logo foi necessário substitui-los por valores que façam sentindo e as regras utilizadas foram:\n",
    "\n",
    "  \n",
    "        Regras:\n",
    "\n",
    "- >**Coluna 'idades'**:\n",
    " Substituímos os valores de idade NaN como 0.0\n",
    "\n",
    "- >**Coluna 'tarifa'**:\n",
    " Substituímos os valores de idade NaN como 0.0\n",
    "\n",
    "- >**Coluna 'cabine'**:\n",
    " Substituímos os valores de idade NaN como Não informado\n",
    "\n",
    "- >**Coluna 'embarcado'**:\n",
    " Substituímos os valores de idade NaN como Não informado\n",
    "\n",
    "- >**Coluna 'destino'**:\n",
    " Substituímos os valores de idade NaN como Não informado\n",
    "\n",
    "- >**Coluna 'bote'**:\n",
    " Substituímos os valores de idade NaN como Não informado"
   ]
  },
  {
   "cell_type": "markdown",
   "metadata": {},
   "source": [
    "2) Resumimos alguns valores que vaziam sentido serem resumidos como:\n",
    "\n",
    "        Regras:\n",
    "- >**Coluna 'sexo'**: Exemplo \"Feminino\" para \"F\"\n",
    "\n",
    "- >**Coluna 'embarcado'**: Exemplo \"Cherbourg\" para \"C\"\n"
   ]
  },
  {
   "cell_type": "markdown",
   "metadata": {},
   "source": [
    "3) Alguns valores precisavam de um trabalho mais elaborado como:\n",
    "\n",
    "    **Sobreviventes:**\n",
    "\n",
    "        Regras:\n",
    "- > Sobreviventes não precisam de uma identificação de CORPO logo são subistituídos de NaN por \"Sobrevivente\"\n",
    "\n",
    "- > Vítimas sem identificação de corpo são subistituídas de NaN para \"Corpo não encontrado\"\n",
    "\n",
    "    **Nomes dos passageiros:**\n",
    "\n",
    "        Regras:\n",
    "- > Aplicada uma função que retira os títulos \"Mr\" ou \"Mis\" dos nomes e organiza o nome e sobrenome dos mesmos\n"
   ]
  },
  {
   "cell_type": "markdown",
   "metadata": {},
   "source": [
    "### Carregando\n",
    "A lógica utilizada para criação do Datawarehouse é em modelo estrela, estes salvos em formato .csv para posteriormente realizar a conexão com o banco de dados SQLite3 e para isso foi usada as funções:"
   ]
  },
  {
   "cell_type": "markdown",
   "metadata": {},
   "source": [
    "\n",
    "**Separar tabelas fato e dimensão**\n",
    "\n",
    "- > nova_tabela = tabela[['coluna1', 'coluna2', ...]]\n",
    "\n",
    "**Salvar tabelas transformadas na pasta staging**\n",
    "    \n",
    "- > tabela.to_csv('path')"
   ]
  },
  {
   "cell_type": "markdown",
   "metadata": {},
   "source": [
    "#### Conexão\n",
    "A conexão é inicializada usando a função connect do SQLite3 e depois as mudanças são commitadas e a conexão concluída.\n",
    "\n",
    "**Conexão**\n",
    "\n",
    "- > sqlite3.connect('db_name')\n",
    "\n",
    "**Escrita no banco**\n",
    "\n",
    "- > to_sql('table_name', conexão)\n",
    "\n",
    "**Commit**\n",
    "\n",
    "Essa função serve para comprometer a mudança pois o python não o faz automaticamente\n",
    "- > commit()\n",
    "\n",
    "**Close**\n",
    "\n",
    "Termina a conexão para o programa não fique com a conexão aberta após a execução\n",
    "- > close()"
   ]
  }
 ],
 "metadata": {
  "language_info": {
   "name": "python"
  }
 },
 "nbformat": 4,
 "nbformat_minor": 2
}
