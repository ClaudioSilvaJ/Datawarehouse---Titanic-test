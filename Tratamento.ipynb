{
 "cells": [
  {
   "cell_type": "code",
   "execution_count": 2,
   "id": "fc326cda-14bb-471f-9315-19f8a39e111d",
   "metadata": {},
   "outputs": [],
   "source": [
    "import pandas as pd\n",
    "import numpy as np\n",
    "import os\n",
    "import zipfile\n",
    "import matplotlib.pyplot as plt\n",
    "import seaborn as sns"
   ]
  },
  {
   "cell_type": "code",
   "execution_count": 3,
   "id": "8f5c81a8-1012-4ac8-a5cd-9e3b34a6e265",
   "metadata": {},
   "outputs": [],
   "source": [
    "titanic = pd.read_csv('./staging/titanic.csv')"
   ]
  },
  {
   "cell_type": "code",
   "execution_count": 4,
   "id": "73669c1a-a3c9-4506-8185-a9e4cd4d065b",
   "metadata": {},
   "outputs": [
    {
     "name": "stdout",
     "output_type": "stream",
     "text": [
      "titanic -  Index(['classe', 'sobrevivente', 'nome', 'sexo', 'idade', 'parente_2',\n",
      "       'parente_1', 'bilhete', 'tarifa', 'cabine', 'embarcado', 'bote',\n",
      "       'corpo', 'destino'],\n",
      "      dtype='object')\n"
     ]
    }
   ],
   "source": [
    "print(\"Titanic - \", titanic.columns)"
   ]
  },
  {
   "cell_type": "code",
   "execution_count": 5,
   "id": "3f7b5b90-a538-4f15-9b68-750a7268f575",
   "metadata": {},
   "outputs": [
    {
     "data": {
      "text/html": [
       "<div>\n",
       "<style scoped>\n",
       "    .dataframe tbody tr th:only-of-type {\n",
       "        vertical-align: middle;\n",
       "    }\n",
       "\n",
       "    .dataframe tbody tr th {\n",
       "        vertical-align: top;\n",
       "    }\n",
       "\n",
       "    .dataframe thead th {\n",
       "        text-align: right;\n",
       "    }\n",
       "</style>\n",
       "<table border=\"1\" class=\"dataframe\">\n",
       "  <thead>\n",
       "    <tr style=\"text-align: right;\">\n",
       "      <th></th>\n",
       "      <th>classe</th>\n",
       "      <th>sobrevivente</th>\n",
       "      <th>nome</th>\n",
       "      <th>sexo</th>\n",
       "      <th>idade</th>\n",
       "      <th>parente_2</th>\n",
       "      <th>parente_1</th>\n",
       "      <th>bilhete</th>\n",
       "      <th>tarifa</th>\n",
       "      <th>cabine</th>\n",
       "      <th>embarcado</th>\n",
       "      <th>bote</th>\n",
       "      <th>corpo</th>\n",
       "      <th>destino</th>\n",
       "    </tr>\n",
       "  </thead>\n",
       "  <tbody>\n",
       "    <tr>\n",
       "      <th>0</th>\n",
       "      <td>1</td>\n",
       "      <td>1</td>\n",
       "      <td>Allen, Miss. Elisabeth Walton</td>\n",
       "      <td>female</td>\n",
       "      <td>29.0000</td>\n",
       "      <td>0</td>\n",
       "      <td>0</td>\n",
       "      <td>24160</td>\n",
       "      <td>211.3375</td>\n",
       "      <td>B5</td>\n",
       "      <td>S</td>\n",
       "      <td>2</td>\n",
       "      <td>NaN</td>\n",
       "      <td>St Louis, MO</td>\n",
       "    </tr>\n",
       "    <tr>\n",
       "      <th>1</th>\n",
       "      <td>1</td>\n",
       "      <td>1</td>\n",
       "      <td>Allison, Master. Hudson Trevor</td>\n",
       "      <td>male</td>\n",
       "      <td>0.9167</td>\n",
       "      <td>1</td>\n",
       "      <td>2</td>\n",
       "      <td>113781</td>\n",
       "      <td>151.5500</td>\n",
       "      <td>C22 C26</td>\n",
       "      <td>S</td>\n",
       "      <td>11</td>\n",
       "      <td>NaN</td>\n",
       "      <td>Montreal, PQ / Chesterville, ON</td>\n",
       "    </tr>\n",
       "    <tr>\n",
       "      <th>2</th>\n",
       "      <td>1</td>\n",
       "      <td>0</td>\n",
       "      <td>Allison, Miss. Helen Loraine</td>\n",
       "      <td>female</td>\n",
       "      <td>2.0000</td>\n",
       "      <td>1</td>\n",
       "      <td>2</td>\n",
       "      <td>113781</td>\n",
       "      <td>151.5500</td>\n",
       "      <td>C22 C26</td>\n",
       "      <td>S</td>\n",
       "      <td>NaN</td>\n",
       "      <td>NaN</td>\n",
       "      <td>Montreal, PQ / Chesterville, ON</td>\n",
       "    </tr>\n",
       "    <tr>\n",
       "      <th>3</th>\n",
       "      <td>1</td>\n",
       "      <td>0</td>\n",
       "      <td>Allison, Mr. Hudson Joshua Creighton</td>\n",
       "      <td>male</td>\n",
       "      <td>30.0000</td>\n",
       "      <td>1</td>\n",
       "      <td>2</td>\n",
       "      <td>113781</td>\n",
       "      <td>151.5500</td>\n",
       "      <td>C22 C26</td>\n",
       "      <td>S</td>\n",
       "      <td>NaN</td>\n",
       "      <td>135.0</td>\n",
       "      <td>Montreal, PQ / Chesterville, ON</td>\n",
       "    </tr>\n",
       "    <tr>\n",
       "      <th>4</th>\n",
       "      <td>1</td>\n",
       "      <td>0</td>\n",
       "      <td>Allison, Mrs. Hudson J C (Bessie Waldo Daniels)</td>\n",
       "      <td>female</td>\n",
       "      <td>25.0000</td>\n",
       "      <td>1</td>\n",
       "      <td>2</td>\n",
       "      <td>113781</td>\n",
       "      <td>151.5500</td>\n",
       "      <td>C22 C26</td>\n",
       "      <td>S</td>\n",
       "      <td>NaN</td>\n",
       "      <td>NaN</td>\n",
       "      <td>Montreal, PQ / Chesterville, ON</td>\n",
       "    </tr>\n",
       "  </tbody>\n",
       "</table>\n",
       "</div>"
      ],
      "text/plain": [
       "   classe  sobrevivente                                             nome  \\\n",
       "0       1             1                    Allen, Miss. Elisabeth Walton   \n",
       "1       1             1                   Allison, Master. Hudson Trevor   \n",
       "2       1             0                     Allison, Miss. Helen Loraine   \n",
       "3       1             0             Allison, Mr. Hudson Joshua Creighton   \n",
       "4       1             0  Allison, Mrs. Hudson J C (Bessie Waldo Daniels)   \n",
       "\n",
       "     sexo    idade  parente_2  parente_1 bilhete    tarifa   cabine embarcado  \\\n",
       "0  female  29.0000          0          0   24160  211.3375       B5         S   \n",
       "1    male   0.9167          1          2  113781  151.5500  C22 C26         S   \n",
       "2  female   2.0000          1          2  113781  151.5500  C22 C26         S   \n",
       "3    male  30.0000          1          2  113781  151.5500  C22 C26         S   \n",
       "4  female  25.0000          1          2  113781  151.5500  C22 C26         S   \n",
       "\n",
       "  bote  corpo                          destino  \n",
       "0    2    NaN                     St Louis, MO  \n",
       "1   11    NaN  Montreal, PQ / Chesterville, ON  \n",
       "2  NaN    NaN  Montreal, PQ / Chesterville, ON  \n",
       "3  NaN  135.0  Montreal, PQ / Chesterville, ON  \n",
       "4  NaN    NaN  Montreal, PQ / Chesterville, ON  "
      ]
     },
     "execution_count": 5,
     "metadata": {},
     "output_type": "execute_result"
    }
   ],
   "source": [
    "titanic.head()"
   ]
  },
  {
   "cell_type": "code",
   "execution_count": 6,
   "id": "c6d59498-224b-4433-8ab4-3791e8e59b4b",
   "metadata": {},
   "outputs": [
    {
     "data": {
      "text/plain": [
       "['idade', 'tarifa', 'cabine', 'embarcado', 'bote', 'corpo', 'destino']"
      ]
     },
     "execution_count": 6,
     "metadata": {},
     "output_type": "execute_result"
    }
   ],
   "source": [
    "#lista de colunas com dados nulos\n",
    "titanic.columns[titanic.isna().any()].tolist()"
   ]
  },
  {
   "cell_type": "code",
   "execution_count": 7,
   "id": "db59fdc7-326f-450c-b3ca-bb22609bb604",
   "metadata": {},
   "outputs": [],
   "source": [
    "# Transforma a coluna sex (sexo) em female - F e male - M \n",
    "titanic['sexo'] = titanic.sexo.replace({\n",
    "    'female':'F',\n",
    "    'male':'M'\n",
    "})"
   ]
  },
  {
   "cell_type": "code",
   "execution_count": 8,
   "id": "2f0b87fb-04c4-4288-97de-f0eee9bf1e69",
   "metadata": {},
   "outputs": [],
   "source": [
    "# Transforma a coluna survived (sobrevivente) em 1 - sim e 0 - nao \n",
    "titanic['sobrevivente'] = titanic.sobrevivente.replace({\n",
    "    0:'nao',\n",
    "    1:'sim'\n",
    "})"
   ]
  },
  {
   "cell_type": "code",
   "execution_count": 9,
   "id": "e7fb906a-0e1e-425b-9150-7f69538e87c5",
   "metadata": {},
   "outputs": [
    {
     "data": {
      "text/plain": [
       "263"
      ]
     },
     "execution_count": 9,
     "metadata": {},
     "output_type": "execute_result"
    }
   ],
   "source": [
    "#quantas pessoas sem idade estam na planilha\n",
    "titanic['idade'].isna().sum()"
   ]
  },
  {
   "cell_type": "code",
   "execution_count": 10,
   "id": "6cc5f6e9-56dd-4591-8820-dd20a4e2d4eb",
   "metadata": {},
   "outputs": [],
   "source": [
    "# Preencher os valores nulos(NaN) com 0\n",
    "titanic['idade'].fillna(0.0, inplace=True)"
   ]
  },
  {
   "cell_type": "code",
   "execution_count": 11,
   "id": "4c08b30c-57a9-40e5-bf2d-f34edaa02897",
   "metadata": {},
   "outputs": [],
   "source": [
    "# preenche os valores nulos\n",
    "titanic['tarifa'].fillna(0.0, inplace=True)"
   ]
  },
  {
   "cell_type": "code",
   "execution_count": 12,
   "id": "6933e37d-350c-4885-aafb-47ed0916563d",
   "metadata": {},
   "outputs": [],
   "source": [
    "# muda os dados da coluna cabine para 'NAO INFORMADO' quando os dodos sao nulos\n",
    "titanic['cabine'].fillna('Nao informado', inplace=True)"
   ]
  },
  {
   "cell_type": "code",
   "execution_count": 13,
   "id": "9474935b-6231-4271-810a-b37df0f4ac60",
   "metadata": {},
   "outputs": [],
   "source": [
    "#peenche a coluna 'embarcado' para o nome completo das cidades\n",
    "titanic['embarcado'] = titanic['embarcado'].replace({\n",
    "    'C':'Cherbourg', \n",
    "    'Q': 'Queenstown', \n",
    "    'S': 'Southampton',\n",
    "     np.nan: \"Nao informado\"\n",
    "})"
   ]
  },
  {
   "cell_type": "code",
   "execution_count": 14,
   "id": "0b1ece1e-8f3b-4e6f-9637-20deae9ab41c",
   "metadata": {},
   "outputs": [],
   "source": [
    "# na coluna destino alterase os dados nulos para 'nao informado'\n",
    "titanic['destino'].fillna('Nao informado', inplace=True)"
   ]
  },
  {
   "cell_type": "code",
   "execution_count": 15,
   "id": "a91863cd-9942-4661-a0bc-234dcdf4fab4",
   "metadata": {},
   "outputs": [],
   "source": [
    "# muda os dados da coluna bote para 'nao usou bote' para dados nulos\n",
    "titanic['bote'].fillna('NAO USOU BOTE', inplace=True)"
   ]
  },
  {
   "cell_type": "code",
   "execution_count": 16,
   "id": "42256263-4485-47a5-98cc-fc007635b79f",
   "metadata": {},
   "outputs": [],
   "source": [
    "# converter a coluna 'corpo' para string\n",
    "titanic['corpo'] = titanic['corpo'].astype(str)"
   ]
  },
  {
   "cell_type": "code",
   "execution_count": 17,
   "id": "211be132-46d4-4fda-81ed-0b92f6c4b489",
   "metadata": {},
   "outputs": [],
   "source": [
    "# verifica se na coluna 'sobrevivente' se está 'sim' entao na coluna 'corpo' colocase 'Sobrevivente'\n",
    "titanic.loc[titanic['sobrevivente']=='sim', 'corpo'] = 'Sobrevivente'"
   ]
  },
  {
   "cell_type": "code",
   "execution_count": 18,
   "id": "f952eb18-e380-44ad-a0ac-e320bdb36037",
   "metadata": {},
   "outputs": [],
   "source": [
    "#verifica se na coluna 'sobrevivente' se está 'nao' entao na coluna 'corpo' colocase 'corpo encontrado', quando se tem um numero\n",
    "titanic.loc[(titanic['sobrevivente'] == 'nao') & (titanic['corpo'].notna()), 'corpo'] = 'Corpo encontrado'"
   ]
  },
  {
   "cell_type": "code",
   "execution_count": 19,
   "id": "e199ecc0-cd08-4837-8185-240205a709d3",
   "metadata": {},
   "outputs": [],
   "source": [
    "# coloca na coluna corpo 'corpo nao encontrado' se na coluna corpo estiver dados nulos.\n",
    "titanic['corpo'].fillna('Corpo nao encontrado', inplace=True)"
   ]
  },
  {
   "cell_type": "code",
   "execution_count": 20,
   "id": "38d92e0f-6076-432d-868a-f7c228a547f3",
   "metadata": {},
   "outputs": [],
   "source": [
    "#Função para retirar o Mr., Miss. ... do nome e colocar o ultimo nome no final\n",
    "def rearrange_name(name):\n",
    "    parts = name.split(\", \")\n",
    "    if len(parts) < 2:\n",
    "        return name\n",
    "    \n",
    "    last_name = parts[0].strip()\n",
    "    first_names = parts[1]\n",
    "    \n",
    "    # Remover o cumprimento do primeiro nome\n",
    "    if first_names.startswith(\"Miss. \") or first_names.startswith(\"Mr. \") or first_names.startswith(\"Mrs. \") or first_names.startswith(\"Dr. \") or first_names.startswith(\"Master. \"):\n",
    "        first_names = first_names.split(\". \")[1]\n",
    "    \n",
    "    rearranged_name = f\"{first_names} {last_name}\"\n",
    "    \n",
    "    return rearranged_name"
   ]
  },
  {
   "cell_type": "code",
   "execution_count": 21,
   "id": "75141810-3a9e-4b89-bc6b-0c4acad091b8",
   "metadata": {},
   "outputs": [],
   "source": [
    "# Aplicar a função 'rearrange_name' na coluna 'nome' do DataFrame\n",
    "titanic['nome'] = titanic['nome'].apply(rearrange_name)"
   ]
  },
  {
   "cell_type": "code",
   "execution_count": 22,
   "id": "f75c204d-1c73-4241-8a6a-bda16d59bec7",
   "metadata": {},
   "outputs": [
    {
     "data": {
      "image/png": "[encoded data removed]",
      "text/plain": [
       "<Figure size 800x600 with 1 Axes>"
      ]
     },
     "metadata": {},
     "output_type": "display_data"
    }
   ],
   "source": [
    "# Gráfico de barras para contar sobreviventes\n",
    "plt.figure(figsize=(8, 6))\n",
    "titanic['sobrevivente'].value_counts().plot(kind='pie', autopct='%1.1f%%')\n",
    "plt.title('Taxa de sobreviventes')\n",
    "plt.ylabel('')\n",
    "plt.show()\n"
   ]
  },
  {
   "cell_type": "code",
   "execution_count": 23,
   "id": "87b81851-089c-431e-b9e0-215bc9931d70",
   "metadata": {},
   "outputs": [
    {
     "data": {
      "image/png": "[encoded data removed]",
      "text/plain": [
       "<Figure size 1000x600 with 1 Axes>"
      ]
     },
     "metadata": {},
     "output_type": "display_data"
    }
   ],
   "source": [
    "plt.figure(figsize=(10, 6))\n",
    "sns.histplot(data=titanic, x='idade', hue='sobrevivente', bins=8, multiple='stack')\n",
    "plt.title('Número de Sobreviventes por Faixa Etária (10 em 10 anos)')\n",
    "plt.xlabel('Idade')\n",
    "plt.ylabel('Número de Sobreviventes')\n",
    "plt.legend(title='Sobreviveu', labels=['Não', 'Sim'])\n",
    "plt.show()\n"
   ]
  },
  {
   "cell_type": "code",
   "execution_count": 24,
   "id": "acb6d695-c139-4cea-b725-be2901089d98",
   "metadata": {},
   "outputs": [
    {
     "data": {
      "image/png": "[encoded data removed]",
      "text/plain": [
       "<Figure size 800x600 with 1 Axes>"
      ]
     },
     "metadata": {},
     "output_type": "display_data"
    }
   ],
   "source": [
    "# convertendo 'sim' e 'não' para valores booleanos\n",
    "copy = titanic.copy()\n",
    "copy['sobrevivente'] = copy['sobrevivente'].map({'sim': True, 'nao': False})\n",
    "\n",
    "# calculando a taxa de sobrevivência por classe\n",
    "survival_rates = copy.groupby('classe')['sobrevivente'].mean() * 100\n",
    "\n",
    "# criando o gráfico de barras\n",
    "plt.figure(figsize=(8, 6))\n",
    "survival_rates.plot(kind='bar', color='orange')\n",
    "plt.title('Taxa de Sobrevivência por Classe')\n",
    "plt.xlabel('Classe')\n",
    "plt.ylabel('Taxa de Sobrevivência (%)')\n",
    "plt.xticks(rotation=0)  # rotacionar os rótulos do eixo x para melhor visualização\n",
    "plt.ylim(0, 100)  # definir o limite do eixo y de 0% a 100%\n",
    "plt.grid(axis='y', linestyle='--', alpha=0.7)\n",
    "plt.show()"
   ]
  },
  {
   "cell_type": "code",
   "execution_count": 25,
   "id": "67b83cd1-0998-49e6-b005-544550df1d7a",
   "metadata": {},
   "outputs": [],
   "source": [
    "#está criando novas tabelas, para facilitar a analise de dados mais especificos\n",
    "ftTitanic=titanic[['bilhete','nome','sexo','idade','sobrevivente']] \n",
    "dtViagem=titanic[['bilhete','cabine', 'embarcado', 'destino', 'classe','tarifa']]\n",
    "dtFamilia=titanic[['bilhete','parente_1', 'parente_2']]\n",
    "dtResgate=titanic[['bilhete','corpo','bote']]"
   ]
  },
  {
   "cell_type": "code",
   "execution_count": 26,
   "id": "a28e75a6-129d-4546-b9cf-567026339f50",
   "metadata": {},
   "outputs": [],
   "source": [
    "#Esses comandos estão exportando os DataFrames para arquivos CSV e salvando-os no diretório..\n",
    "ftTitanic.to_csv('./refined/ftTitanic.csv', index=False)\n",
    "dtViagem.to_csv('./refined/dtViagem.csv', index=False)\n",
    "dtFamilia.to_csv('./refined/dtFamilia.csv', index=False)\n",
    "dtResgate.to_csv('./refined/dtResgate.csv', index=False)"
   ]
  },
  {
   "cell_type": "code",
   "execution_count": null,
   "id": "05d97ad4-455c-4738-8716-c8fffab786fb",
   "metadata": {},
   "outputs": [],
   "source": []
  }
 ],
 "metadata": {
  "kernelspec": {
   "display_name": "Python 3 (ipykernel)",
   "language": "python",
   "name": "python3"
  },
  "language_info": {
   "codemirror_mode": {
    "name": "ipython",
    "version": 3
   },
   "file_extension": ".py",
   "mimetype": "text/x-python",
   "name": "python",
   "nbconvert_exporter": "python",
   "pygments_lexer": "ipython3",
   "version": "3.9.18"
  }
 },
 "nbformat": 4,
 "nbformat_minor": 5
}
